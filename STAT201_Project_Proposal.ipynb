{
 "cells": [
  {
   "cell_type": "markdown",
   "id": "b0b47b72",
   "metadata": {},
   "source": [
    "# Title <- Insert Title Here\n",
    "\n",
    "*Jack Yao, Jessie Lu, Kexin Feng, Vincent Luong*"
   ]
  },
  {
   "cell_type": "markdown",
   "id": "2faf3b46-ae2d-4623-94a6-3dce529f4a63",
   "metadata": {},
   "source": [
    "# Research Question:"
   ]
  },
  {
   "cell_type": "markdown",
   "id": "8aefc149-4dda-4158-ad3c-51c5c666e6fb",
   "metadata": {},
   "source": [
    "Is there a positive correlation between student performance and parents' educational attainment? \n",
    "\n",
    "Null hypothesis: There is no difference in mean of student performance between those with well-educated parents and less-educated parents. [H0: $\\mu1 - \\mu2 = 0$]\n",
    "\n",
    "Alternative hypothesis: Students with well-educated parents perform better than those with less-educated parents. [H1: $\\mu1 - \\mu2 > 0$]\n",
    "\n",
    "$\\mu1$: student performance of well-educated parents’ group.\n",
    "\n",
    "$\\mu1$: student performance of less-educated parents’ group. "
   ]
  },
  {
   "cell_type": "markdown",
   "id": "887c3ca5",
   "metadata": {},
   "source": [
    "# Introduction:"
   ]
  },
  {
   "cell_type": "markdown",
   "id": "2a25fe2c",
   "metadata": {},
   "source": [
    "Student Performance is a general term used to describe how well a student has mastered what is taught in school. In our experiment, we simply use the sum of students' grades (first exam grade plus second exam grade plus final grade) to quantify student performance in a specific subject (mathematics). Numerous factors contribute to student performance, such as family relationships, school, parents’ level of education, and class attendance. The study (Mammarella et al., 2019) explores the impact of parents' attitudes and behaviors towards math on children's math performance. It indicates that parents majoring in elementary education tend to have higher math anxiety than those attending college. Our research is inspired by these findings, aiming to investigate the relationship between parental education and children's math performance, with a focus on empowering parents to positively influence their children's academic achievements.\n",
    "\n",
    "The dataset that will be used in this project is the Student Performance on Math dataset from the UCI machine learning repository. This project classified parents’ level of education into two groups, based on the sum of both parents’ education levels. Level0 means uneducated, level1 means finished (4th grade), level2 finished 5th to 9th grade, level3 finished secondary education, and level4 stands for higher education. If the sum of both parents’ level of education is greater than 5, we classified them as “well-educated”, or else they are “less-educated”. The measured student performance is reflected in grades on a numeric scale from 0 to 20. "
   ]
  },
  {
   "cell_type": "markdown",
   "id": "92b1c4be",
   "metadata": {},
   "source": [
    "# Preliminary Results"
   ]
  },
  {
   "cell_type": "markdown",
   "id": "77896293",
   "metadata": {},
   "source": [
    "This section will involve:\n",
    "- Reading data from UCI database\n",
    "- Cleaning and wrangling data\n",
    "- Plotting relevant raw data\n",
    "- Computing point estimates"
   ]
  },
  {
   "cell_type": "code",
   "execution_count": 3,
   "id": "1aaf2b72",
   "metadata": {},
   "outputs": [
    {
     "name": "stderr",
     "output_type": "stream",
     "text": [
      "── \u001b[1mAttaching packages\u001b[22m ─────────────────────────────────────── tidyverse 1.3.2 ──\n",
      "\u001b[32m✔\u001b[39m \u001b[34mggplot2\u001b[39m 3.3.6      \u001b[32m✔\u001b[39m \u001b[34mpurrr  \u001b[39m 0.3.4 \n",
      "\u001b[32m✔\u001b[39m \u001b[34mtibble \u001b[39m 3.1.8      \u001b[32m✔\u001b[39m \u001b[34mdplyr  \u001b[39m 1.0.10\n",
      "\u001b[32m✔\u001b[39m \u001b[34mtidyr  \u001b[39m 1.2.1      \u001b[32m✔\u001b[39m \u001b[34mstringr\u001b[39m 1.4.1 \n",
      "\u001b[32m✔\u001b[39m \u001b[34mreadr  \u001b[39m 2.1.2      \u001b[32m✔\u001b[39m \u001b[34mforcats\u001b[39m 0.5.2 \n",
      "── \u001b[1mConflicts\u001b[22m ────────────────────────────────────────── tidyverse_conflicts() ──\n",
      "\u001b[31m✖\u001b[39m \u001b[34mdplyr\u001b[39m::\u001b[32mfilter()\u001b[39m masks \u001b[34mstats\u001b[39m::filter()\n",
      "\u001b[31m✖\u001b[39m \u001b[34mdplyr\u001b[39m::\u001b[32mlag()\u001b[39m    masks \u001b[34mstats\u001b[39m::lag()\n",
      "── \u001b[1mAttaching packages\u001b[22m ────────────────────────────────────── tidymodels 1.0.0 ──\n",
      "\n",
      "\u001b[32m✔\u001b[39m \u001b[34mbroom       \u001b[39m 1.0.1     \u001b[32m✔\u001b[39m \u001b[34mrsample     \u001b[39m 1.1.0\n",
      "\u001b[32m✔\u001b[39m \u001b[34mdials       \u001b[39m 1.0.0     \u001b[32m✔\u001b[39m \u001b[34mtune        \u001b[39m 1.0.0\n",
      "\u001b[32m✔\u001b[39m \u001b[34minfer       \u001b[39m 1.0.3     \u001b[32m✔\u001b[39m \u001b[34mworkflows   \u001b[39m 1.0.0\n",
      "\u001b[32m✔\u001b[39m \u001b[34mmodeldata   \u001b[39m 1.0.1     \u001b[32m✔\u001b[39m \u001b[34mworkflowsets\u001b[39m 1.0.0\n",
      "\u001b[32m✔\u001b[39m \u001b[34mparsnip     \u001b[39m 1.0.1     \u001b[32m✔\u001b[39m \u001b[34myardstick   \u001b[39m 1.1.0\n",
      "\u001b[32m✔\u001b[39m \u001b[34mrecipes     \u001b[39m 1.0.1     \n",
      "\n",
      "── \u001b[1mConflicts\u001b[22m ───────────────────────────────────────── tidymodels_conflicts() ──\n",
      "\u001b[31m✖\u001b[39m \u001b[34mscales\u001b[39m::\u001b[32mdiscard()\u001b[39m masks \u001b[34mpurrr\u001b[39m::discard()\n",
      "\u001b[31m✖\u001b[39m \u001b[34mdplyr\u001b[39m::\u001b[32mfilter()\u001b[39m   masks \u001b[34mstats\u001b[39m::filter()\n",
      "\u001b[31m✖\u001b[39m \u001b[34mrecipes\u001b[39m::\u001b[32mfixed()\u001b[39m  masks \u001b[34mstringr\u001b[39m::fixed()\n",
      "\u001b[31m✖\u001b[39m \u001b[34mdplyr\u001b[39m::\u001b[32mlag()\u001b[39m      masks \u001b[34mstats\u001b[39m::lag()\n",
      "\u001b[31m✖\u001b[39m \u001b[34myardstick\u001b[39m::\u001b[32mspec()\u001b[39m masks \u001b[34mreadr\u001b[39m::spec()\n",
      "\u001b[31m✖\u001b[39m \u001b[34mrecipes\u001b[39m::\u001b[32mstep()\u001b[39m   masks \u001b[34mstats\u001b[39m::step()\n",
      "\u001b[34m•\u001b[39m Use \u001b[32mtidymodels_prefer()\u001b[39m to resolve common conflicts.\n",
      "\n"
     ]
    }
   ],
   "source": [
    "# load libraries\n",
    "library(tidyverse)\n",
    "library(tidymodels)\n",
    "library(infer)"
   ]
  },
  {
   "cell_type": "markdown",
   "id": "4496ff34",
   "metadata": {},
   "source": [
    "### Reading Data from the database"
   ]
  },
  {
   "cell_type": "code",
   "execution_count": 22,
   "id": "d120bd8b",
   "metadata": {},
   "outputs": [
    {
     "name": "stderr",
     "output_type": "stream",
     "text": [
      "\u001b[1mRows: \u001b[22m\u001b[34m395\u001b[39m \u001b[1mColumns: \u001b[22m\u001b[34m33\u001b[39m\n",
      "\u001b[36m──\u001b[39m \u001b[1mColumn specification\u001b[22m \u001b[36m────────────────────────────────────────────────────────\u001b[39m\n",
      "\u001b[1mDelimiter:\u001b[22m \";\"\n",
      "\u001b[31mchr\u001b[39m (17): school, sex, address, famsize, Pstatus, Mjob, Fjob, reason, guardi...\n",
      "\u001b[32mdbl\u001b[39m (16): age, Medu, Fedu, traveltime, studytime, failures, famrel, freetime...\n",
      "\n",
      "\u001b[36mℹ\u001b[39m Use `spec()` to retrieve the full column specification for this data.\n",
      "\u001b[36mℹ\u001b[39m Specify the column types or set `show_col_types = FALSE` to quiet this message.\n"
     ]
    },
    {
     "data": {
      "text/html": [
       "<table class=\"dataframe\">\n",
       "<caption>A tibble: 6 × 5</caption>\n",
       "<thead>\n",
       "\t<tr><th scope=col>mother_education</th><th scope=col>father_education</th><th scope=col>first_period_grade</th><th scope=col>second_period_grade</th><th scope=col>final_grade</th></tr>\n",
       "\t<tr><th scope=col>&lt;fct&gt;</th><th scope=col>&lt;fct&gt;</th><th scope=col>&lt;dbl&gt;</th><th scope=col>&lt;dbl&gt;</th><th scope=col>&lt;dbl&gt;</th></tr>\n",
       "</thead>\n",
       "<tbody>\n",
       "\t<tr><td>4</td><td>4</td><td> 5</td><td> 6</td><td> 6</td></tr>\n",
       "\t<tr><td>1</td><td>1</td><td> 5</td><td> 5</td><td> 6</td></tr>\n",
       "\t<tr><td>1</td><td>1</td><td> 7</td><td> 8</td><td>10</td></tr>\n",
       "\t<tr><td>4</td><td>2</td><td>15</td><td>14</td><td>15</td></tr>\n",
       "\t<tr><td>3</td><td>3</td><td> 6</td><td>10</td><td>10</td></tr>\n",
       "\t<tr><td>4</td><td>3</td><td>15</td><td>15</td><td>15</td></tr>\n",
       "</tbody>\n",
       "</table>\n"
      ],
      "text/latex": [
       "A tibble: 6 × 5\n",
       "\\begin{tabular}{lllll}\n",
       " mother\\_education & father\\_education & first\\_period\\_grade & second\\_period\\_grade & final\\_grade\\\\\n",
       " <fct> & <fct> & <dbl> & <dbl> & <dbl>\\\\\n",
       "\\hline\n",
       "\t 4 & 4 &  5 &  6 &  6\\\\\n",
       "\t 1 & 1 &  5 &  5 &  6\\\\\n",
       "\t 1 & 1 &  7 &  8 & 10\\\\\n",
       "\t 4 & 2 & 15 & 14 & 15\\\\\n",
       "\t 3 & 3 &  6 & 10 & 10\\\\\n",
       "\t 4 & 3 & 15 & 15 & 15\\\\\n",
       "\\end{tabular}\n"
      ],
      "text/markdown": [
       "\n",
       "A tibble: 6 × 5\n",
       "\n",
       "| mother_education &lt;fct&gt; | father_education &lt;fct&gt; | first_period_grade &lt;dbl&gt; | second_period_grade &lt;dbl&gt; | final_grade &lt;dbl&gt; |\n",
       "|---|---|---|---|---|\n",
       "| 4 | 4 |  5 |  6 |  6 |\n",
       "| 1 | 1 |  5 |  5 |  6 |\n",
       "| 1 | 1 |  7 |  8 | 10 |\n",
       "| 4 | 2 | 15 | 14 | 15 |\n",
       "| 3 | 3 |  6 | 10 | 10 |\n",
       "| 4 | 3 | 15 | 15 | 15 |\n",
       "\n"
      ],
      "text/plain": [
       "  mother_education father_education first_period_grade second_period_grade\n",
       "1 4                4                 5                  6                 \n",
       "2 1                1                 5                  5                 \n",
       "3 1                1                 7                  8                 \n",
       "4 4                2                15                 14                 \n",
       "5 3                3                 6                 10                 \n",
       "6 4                3                15                 15                 \n",
       "  final_grade\n",
       "1  6         \n",
       "2  6         \n",
       "3 10         \n",
       "4 15         \n",
       "5 10         \n",
       "6 15         "
      ]
     },
     "metadata": {},
     "output_type": "display_data"
    }
   ],
   "source": [
    "# Reading data from UCI Machine Learning Repository and extract CSV file from zip file\n",
    "url <- \"https://archive.ics.uci.edu/static/public/320/student+performance.zip\"\n",
    "download.file(url, \"./data/studentperformance.zip\")\n",
    "raw_data <- unzip(\"./data/studentperformance.zip\", \"student.zip\", exdir = \"./data\") |>\n",
    "    unzip(\"student-mat.csv\", exdir = \"./data\") |>\n",
    "    read_delim(delim = \";\")\n",
    "\n",
    "\n",
    "student_data <- raw_data |>\n",
    "    select(Medu, Fedu, G1, G2, G3)\n",
    "colnames(student_data) <- c(\"mother_education\", \"father_education\", \"term_1_grade\", \"term_2_grade\", \"fin\")\n",
    "    \n",
    "head(student_data)"
   ]
  },
  {
   "cell_type": "markdown",
   "id": "51f08fe9",
   "metadata": {},
   "source": [
    "**Reading Data:** Reading and processing the Student Performance dataset from the web"
   ]
  },
  {
   "cell_type": "markdown",
   "id": "cb9a2797",
   "metadata": {},
   "source": [
    "# Methods: Plan"
   ]
  },
  {
   "cell_type": "markdown",
   "id": "798fa55c",
   "metadata": {},
   "source": [
    "```\n",
    "The previous sections will carry over to your final report (you’ll be allowed to improve them based on feedback you get). Begin this Methods section with a brief description of “the good things” about this report – specifically, in what ways is this report trustworthy?\n",
    "\n",
    "Continue by explaining why the plot(s) and estimates that you produced are not enough to give to a stakeholder, and what you should provide in addition to address this gap. Make sure your plans include at least one hypothesis test and one confidence interval. If possible, compare both the bootstrapping and asymptotics methods.\n",
    "\n",
    "Finish this section by reflecting on how your final report might play out:\n",
    "\n",
    "- What do you expect to find?\n",
    "- What impact could such findings have?\n",
    "- What future questions could this lead to?\n",
    "```\n",
    "\n",
    "# write more stuff here"
   ]
  },
  {
   "cell_type": "markdown",
   "id": "c513f925",
   "metadata": {},
   "source": [
    "# References"
   ]
  },
  {
   "cell_type": "markdown",
   "id": "ac4603ce",
   "metadata": {},
   "source": [
    "Cortez,Paulo. (2014). Student Performance. UCI Machine Learning Repository. https://doi.org/10.24432/C5TG7T.\n",
    "\n",
    "Herts, J. B., Beilock, S. L., & Levine, S. C. (2019). The role of parents’ and teachers’ math anxiety in Children’s math learning and attitudes. In I. C. Mammarella, S. Caviola & A. Dowker (Eds.), *Mathematics anxiety* (1st ed., pp. 190-210). Routledge. https://doi.org/10.4324/9780429199981-11"
   ]
  },
  {
   "cell_type": "code",
   "execution_count": null,
   "id": "3c9c1616",
   "metadata": {},
   "outputs": [],
   "source": []
  }
 ],
 "metadata": {
  "kernelspec": {
   "display_name": "R",
   "language": "R",
   "name": "ir"
  },
  "language_info": {
   "codemirror_mode": "r",
   "file_extension": ".r",
   "mimetype": "text/x-r-source",
   "name": "R",
   "pygments_lexer": "r",
   "version": "4.1.3"
  }
 },
 "nbformat": 4,
 "nbformat_minor": 5
}
