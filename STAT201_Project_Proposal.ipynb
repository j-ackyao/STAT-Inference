{
 "cells": [
  {
   "cell_type": "markdown",
   "id": "571c70ce-7bdd-4a07-9332-ae2afd11334d",
   "metadata": {},
   "source": [
    "Each proposal should include the following sections:\n",
    "\n",
    "Title\n",
    "Introduction\n",
    "Preliminary Results\n",
    "Methods: Plan\n",
    "References"
   ]
  },
  {
   "cell_type": "markdown",
   "id": "dd540354-c985-4df5-b584-e750f84d8380",
   "metadata": {},
   "source": [
    "# Title"
   ]
  },
  {
   "cell_type": "markdown",
   "id": "c62f3c37-c8fc-4320-ae8c-2073cb234f69",
   "metadata": {},
   "source": [
    "# Introduction"
   ]
  },
  {
   "cell_type": "markdown",
   "id": "d89dd010-8469-4d2a-a041-b783ce5d8cb5",
   "metadata": {},
   "source": [
    "# Preliminary Results"
   ]
  },
  {
   "cell_type": "markdown",
   "id": "3582c500-7230-494f-bc42-8c9cb7be13fc",
   "metadata": {},
   "source": [
    "# Methods: Plan"
   ]
  },
  {
   "cell_type": "markdown",
   "id": "c82e2386-6c1c-4966-9512-0ab22d1a6c61",
   "metadata": {},
   "source": [
    "# References"
   ]
  },
  {
   "cell_type": "code",
   "execution_count": null,
   "id": "e93d8e42-83c0-469a-ae8f-fa095b20aa9d",
   "metadata": {},
   "outputs": [],
   "source": []
  }
 ],
 "metadata": {
  "kernelspec": {
   "display_name": "R",
   "language": "R",
   "name": "ir"
  },
  "language_info": {
   "codemirror_mode": "r",
   "file_extension": ".r",
   "mimetype": "text/x-r-source",
   "name": "R",
   "pygments_lexer": "r",
   "version": "4.1.3"
  }
 },
 "nbformat": 4,
 "nbformat_minor": 5
}
