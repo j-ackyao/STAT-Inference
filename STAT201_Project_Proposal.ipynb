{
 "cells": [
  {
   "cell_type": "markdown",
   "id": "571c70ce-7bdd-4a07-9332-ae2afd11334d",
   "metadata": {},
   "source": [
    "Each proposal should include the following sections:\n",
    "\n",
    "Title\n",
    "Introduction\n",
    "Preliminary Results\n",
    "Methods: Plan\n",
    "References"
   ]
  },
  {
   "cell_type": "markdown",
   "id": "dd540354-c985-4df5-b584-e750f84d8380",
   "metadata": {},
   "source": [
    "# Title"
   ]
  },
  {
   "cell_type": "code",
   "execution_count": null,
   "id": "c2210fc3-525b-47a5-b8fb-bc28bb86d4e8",
   "metadata": {},
   "outputs": [],
   "source": [
    "# Introduction"
   ]
  },
  {
   "cell_type": "code",
   "execution_count": null,
   "id": "8b70c1b0-332b-4d15-8c5c-a7e74bbeced2",
   "metadata": {},
   "outputs": [],
   "source": [
    "# Preliminary Results"
   ]
  },
  {
   "cell_type": "code",
   "execution_count": null,
   "id": "5a353471-22ab-44e6-a53f-db5d99aa5fc9",
   "metadata": {},
   "outputs": [],
   "source": [
    "# Methods: Plan"
   ]
  },
  {
   "cell_type": "code",
   "execution_count": null,
   "id": "54c68e17-6d91-410a-826a-03bba2edfa2d",
   "metadata": {},
   "outputs": [],
   "source": [
    "#"
   ]
  }
 ],
 "metadata": {
  "kernelspec": {
   "display_name": "R",
   "language": "R",
   "name": "ir"
  },
  "language_info": {
   "codemirror_mode": "r",
   "file_extension": ".r",
   "mimetype": "text/x-r-source",
   "name": "R",
   "pygments_lexer": "r",
   "version": "4.1.3"
  }
 },
 "nbformat": 4,
 "nbformat_minor": 5
}
