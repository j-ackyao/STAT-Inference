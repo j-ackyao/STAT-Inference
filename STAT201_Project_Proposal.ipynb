{
 "cells": [
  {
   "cell_type": "markdown",
   "id": "dd540354-c985-4df5-b584-e750f84d8380",
   "metadata": {},
   "source": [
    "# Title <- Insert Title Here\n",
    "\n",
    "*Jack Yao, Jessie Lu, Kexin Feng, Vincent Luong*"
   ]
  },
  {
   "cell_type": "markdown",
   "id": "c62f3c37-c8fc-4320-ae8c-2073cb234f69",
   "metadata": {},
   "source": [
    "# Introduction"
   ]
  },
  {
   "cell_type": "markdown",
   "id": "d89dd010-8469-4d2a-a041-b783ce5d8cb5",
   "metadata": {},
   "source": [
    "# Preliminary Results"
   ]
  },
  {
   "cell_type": "code",
   "execution_count": 23,
   "id": "6710191a-e3a7-450e-9edc-ebe3101267eb",
   "metadata": {},
   "outputs": [],
   "source": [
    "library(tidyverse)\n",
    "library(repr)\n",
    "library(rvest)\n",
    "library(readxl)\n",
    "library(tidymodels)\n",
    "library(infer)"
   ]
  },
  {
   "cell_type": "markdown",
   "id": "24aa53ad-4270-44bb-b2b3-fde70b39bcbf",
   "metadata": {},
   "source": [
    "### Reading Data from the Web"
   ]
  },
  {
   "cell_type": "code",
   "execution_count": 22,
   "id": "ee2020d6-9cdf-471a-823e-5f020255c661",
   "metadata": {},
   "outputs": [
    {
     "name": "stderr",
     "output_type": "stream",
     "text": [
      "\u001b[1mRows: \u001b[22m\u001b[34m395\u001b[39m \u001b[1mColumns: \u001b[22m\u001b[34m33\u001b[39m\n",
      "\u001b[36m──\u001b[39m \u001b[1mColumn specification\u001b[22m \u001b[36m────────────────────────────────────────────────────────\u001b[39m\n",
      "\u001b[1mDelimiter:\u001b[22m \";\"\n",
      "\u001b[31mchr\u001b[39m (17): school, sex, address, famsize, Pstatus, Mjob, Fjob, reason, guardi...\n",
      "\u001b[32mdbl\u001b[39m (16): age, Medu, Fedu, traveltime, studytime, failures, famrel, freetime...\n",
      "\n",
      "\u001b[36mℹ\u001b[39m Use `spec()` to retrieve the full column specification for this data.\n",
      "\u001b[36mℹ\u001b[39m Specify the column types or set `show_col_types = FALSE` to quiet this message.\n"
     ]
    },
    {
     "data": {
      "text/html": [
       "<table class=\"dataframe\">\n",
       "<caption>A tibble: 6 × 5</caption>\n",
       "<thead>\n",
       "\t<tr><th scope=col>mother_education</th><th scope=col>father_education</th><th scope=col>first_period_grade</th><th scope=col>second_period_grade</th><th scope=col>final_grade</th></tr>\n",
       "\t<tr><th scope=col>&lt;fct&gt;</th><th scope=col>&lt;fct&gt;</th><th scope=col>&lt;dbl&gt;</th><th scope=col>&lt;dbl&gt;</th><th scope=col>&lt;dbl&gt;</th></tr>\n",
       "</thead>\n",
       "<tbody>\n",
       "\t<tr><td>4</td><td>4</td><td> 5</td><td> 6</td><td> 6</td></tr>\n",
       "\t<tr><td>1</td><td>1</td><td> 5</td><td> 5</td><td> 6</td></tr>\n",
       "\t<tr><td>1</td><td>1</td><td> 7</td><td> 8</td><td>10</td></tr>\n",
       "\t<tr><td>4</td><td>2</td><td>15</td><td>14</td><td>15</td></tr>\n",
       "\t<tr><td>3</td><td>3</td><td> 6</td><td>10</td><td>10</td></tr>\n",
       "\t<tr><td>4</td><td>3</td><td>15</td><td>15</td><td>15</td></tr>\n",
       "</tbody>\n",
       "</table>\n"
      ],
      "text/latex": [
       "A tibble: 6 × 5\n",
       "\\begin{tabular}{lllll}\n",
       " mother\\_education & father\\_education & first\\_period\\_grade & second\\_period\\_grade & final\\_grade\\\\\n",
       " <fct> & <fct> & <dbl> & <dbl> & <dbl>\\\\\n",
       "\\hline\n",
       "\t 4 & 4 &  5 &  6 &  6\\\\\n",
       "\t 1 & 1 &  5 &  5 &  6\\\\\n",
       "\t 1 & 1 &  7 &  8 & 10\\\\\n",
       "\t 4 & 2 & 15 & 14 & 15\\\\\n",
       "\t 3 & 3 &  6 & 10 & 10\\\\\n",
       "\t 4 & 3 & 15 & 15 & 15\\\\\n",
       "\\end{tabular}\n"
      ],
      "text/markdown": [
       "\n",
       "A tibble: 6 × 5\n",
       "\n",
       "| mother_education &lt;fct&gt; | father_education &lt;fct&gt; | first_period_grade &lt;dbl&gt; | second_period_grade &lt;dbl&gt; | final_grade &lt;dbl&gt; |\n",
       "|---|---|---|---|---|\n",
       "| 4 | 4 |  5 |  6 |  6 |\n",
       "| 1 | 1 |  5 |  5 |  6 |\n",
       "| 1 | 1 |  7 |  8 | 10 |\n",
       "| 4 | 2 | 15 | 14 | 15 |\n",
       "| 3 | 3 |  6 | 10 | 10 |\n",
       "| 4 | 3 | 15 | 15 | 15 |\n",
       "\n"
      ],
      "text/plain": [
       "  mother_education father_education first_period_grade second_period_grade\n",
       "1 4                4                 5                  6                 \n",
       "2 1                1                 5                  5                 \n",
       "3 1                1                 7                  8                 \n",
       "4 4                2                15                 14                 \n",
       "5 3                3                 6                 10                 \n",
       "6 4                3                15                 15                 \n",
       "  final_grade\n",
       "1  6         \n",
       "2  6         \n",
       "3 10         \n",
       "4 15         \n",
       "5 10         \n",
       "6 15         "
      ]
     },
     "metadata": {},
     "output_type": "display_data"
    }
   ],
   "source": [
    "#Reading data  from UCI Machine Learning Repository\n",
    "url <- \"https://raw.githubusercontent.com/j-ackyao/stat-201-project/main/data/student-mat.csv?token=GHSAT0AAAAAACFRQAGNT7CEO35R3RGLCLUGZGAZUYA\"\n",
    "student_data <- read_delim(url, delim = \";\") |>\n",
    "    mutate(final_grade = G3) |>\n",
    "    mutate(first_period_grade = G1) |>\n",
    "    mutate(second_period_grade = G2) |>\n",
    "    mutate(mother_education = as_factor (Medu)) |>\n",
    "    mutate(father_education = as_factor (Fedu)) |>\n",
    "    select(mother_education, father_education, first_period_grade, second_period_grade, final_grade)\n",
    "    \n",
    "head(student_data)"
   ]
  },
  {
   "cell_type": "markdown",
   "id": "8c882488-fecb-4d50-baac-ed77d4c376bc",
   "metadata": {},
   "source": [
    "**Reading Data:** Reading and processing the Student Performance dataset from the web"
   ]
  },
  {
   "cell_type": "markdown",
   "id": "3582c500-7230-494f-bc42-8c9cb7be13fc",
   "metadata": {},
   "source": [
    "# Methods: Plan"
   ]
  },
  {
   "cell_type": "markdown",
   "id": "c82e2386-6c1c-4966-9512-0ab22d1a6c61",
   "metadata": {},
   "source": [
    "# References"
   ]
  },
  {
   "cell_type": "markdown",
   "id": "ff3428e2-b4b0-45be-b0b5-1aed0b53a7a3",
   "metadata": {},
   "source": [
    "https://archive.ics.uci.edu/dataset/320/student+performance <- cite this"
   ]
  }
 ],
 "metadata": {
  "kernelspec": {
   "display_name": "R",
   "language": "R",
   "name": "ir"
  },
  "language_info": {
   "codemirror_mode": "r",
   "file_extension": ".r",
   "mimetype": "text/x-r-source",
   "name": "R",
   "pygments_lexer": "r",
   "version": "4.1.3"
  }
 },
 "nbformat": 4,
 "nbformat_minor": 5
}
