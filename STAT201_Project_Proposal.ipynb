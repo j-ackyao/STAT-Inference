{
 "cells": [
  {
   "cell_type": "markdown",
   "id": "4a00efbc",
   "metadata": {},
   "source": [
    "# Title <- Insert Title Here\n",
    "\n",
    "*Jack Yao, Jessie Lu, Kexin Feng, Vincent Luong*"
   ]
  },
  {
   "cell_type": "markdown",
   "id": "057f9c8f",
   "metadata": {},
   "source": [
    "# Introduction"
   ]
  },
  {
   "cell_type": "markdown",
   "id": "8689ff2e",
   "metadata": {},
   "source": [
    "```\n",
    "Begin by providing some relevant background information on the topic so that someone unfamiliar with it will be prepared to understand the rest of your proposal.\n",
    "\n",
    "Clearly state the question you will try to answer with your project. Your question should involve one or more random variables of interest, spread across two or more categories that are interesting to compare. For example, you could consider the annual maxima river flow at two different locations along a river, or perhaps gender diversity at different universities. Of the response variable, identify one location parameter (mean, median, quantile, etc.) and one scale parameter (standard deviation, inter-quartile range, etc.) that would be useful in answering your question. Justify your choices.\n",
    "\n",
    "UPDATE (Mar 1, 2022): If it doesn’t make sense to infer a scale parameter, you can choose another parameter, or choose a second variable altogether. Ultimately, we’re looking for a comprehensive inference analysis on one parameter spread across 2+ groups (with at least one hypothesis test), plus a bit more (such as an investigation on the variance, a quantile, or a different variable). In total, you should use both bootstrapping and asymptotics somewhere in your report at least once each. Also, your hypothesis test(s) need not be significant: it is perfectly fine to write a report claiming no significant findings (i.e. your p-value is large).\n",
    "\n",
    "Identify and describe the dataset that will be used to answer the question. Remember, this dataset is allowed to contain more variables than you need – feel free to drop them!\n",
    "\n",
    "Also, be sure to frame your question/objectives in terms of what is already known in the literature. Be sure to include at least two scientific publications that can help frame your study (you will need to include these in the References section). We have no specific citation style requirements, but be consistent.\n",
    "```\n",
    "\n",
    "# write stuff here\n",
    "conflict resolved\n",
    ""
   ]
  },
  {
   "cell_type": "markdown",
   "id": "0cde977e",
   "metadata": {},
   "source": [
    "# Preliminary Results"
   ]
  },
  {
   "cell_type": "markdown",
   "id": "9f46b504",
   "metadata": {},
   "source": [
    "This section will involve:\n",
    "- Reading data from UCI database\n",
    "- Cleaning and wrangling data\n",
    "- Plotting relevant raw data\n",
    "- Computing point estimates"
   ]
  },
  {
   "cell_type": "code",
   "execution_count": 3,
   "id": "4e084310",
   "metadata": {},
   "outputs": [
    {
     "name": "stderr",
     "output_type": "stream",
     "text": [
      "── \u001b[1mAttaching packages\u001b[22m ─────────────────────────────────────── tidyverse 1.3.2 ──\n",
      "\u001b[32m✔\u001b[39m \u001b[34mggplot2\u001b[39m 3.3.6      \u001b[32m✔\u001b[39m \u001b[34mpurrr  \u001b[39m 0.3.4 \n",
      "\u001b[32m✔\u001b[39m \u001b[34mtibble \u001b[39m 3.1.8      \u001b[32m✔\u001b[39m \u001b[34mdplyr  \u001b[39m 1.0.10\n",
      "\u001b[32m✔\u001b[39m \u001b[34mtidyr  \u001b[39m 1.2.1      \u001b[32m✔\u001b[39m \u001b[34mstringr\u001b[39m 1.4.1 \n",
      "\u001b[32m✔\u001b[39m \u001b[34mreadr  \u001b[39m 2.1.2      \u001b[32m✔\u001b[39m \u001b[34mforcats\u001b[39m 0.5.2 \n",
      "── \u001b[1mConflicts\u001b[22m ────────────────────────────────────────── tidyverse_conflicts() ──\n",
      "\u001b[31m✖\u001b[39m \u001b[34mdplyr\u001b[39m::\u001b[32mfilter()\u001b[39m masks \u001b[34mstats\u001b[39m::filter()\n",
      "\u001b[31m✖\u001b[39m \u001b[34mdplyr\u001b[39m::\u001b[32mlag()\u001b[39m    masks \u001b[34mstats\u001b[39m::lag()\n",
      "── \u001b[1mAttaching packages\u001b[22m ────────────────────────────────────── tidymodels 1.0.0 ──\n",
      "\n",
      "\u001b[32m✔\u001b[39m \u001b[34mbroom       \u001b[39m 1.0.1     \u001b[32m✔\u001b[39m \u001b[34mrsample     \u001b[39m 1.1.0\n",
      "\u001b[32m✔\u001b[39m \u001b[34mdials       \u001b[39m 1.0.0     \u001b[32m✔\u001b[39m \u001b[34mtune        \u001b[39m 1.0.0\n",
      "\u001b[32m✔\u001b[39m \u001b[34minfer       \u001b[39m 1.0.3     \u001b[32m✔\u001b[39m \u001b[34mworkflows   \u001b[39m 1.0.0\n",
      "\u001b[32m✔\u001b[39m \u001b[34mmodeldata   \u001b[39m 1.0.1     \u001b[32m✔\u001b[39m \u001b[34mworkflowsets\u001b[39m 1.0.0\n",
      "\u001b[32m✔\u001b[39m \u001b[34mparsnip     \u001b[39m 1.0.1     \u001b[32m✔\u001b[39m \u001b[34myardstick   \u001b[39m 1.1.0\n",
      "\u001b[32m✔\u001b[39m \u001b[34mrecipes     \u001b[39m 1.0.1     \n",
      "\n",
      "── \u001b[1mConflicts\u001b[22m ───────────────────────────────────────── tidymodels_conflicts() ──\n",
      "\u001b[31m✖\u001b[39m \u001b[34mscales\u001b[39m::\u001b[32mdiscard()\u001b[39m masks \u001b[34mpurrr\u001b[39m::discard()\n",
      "\u001b[31m✖\u001b[39m \u001b[34mdplyr\u001b[39m::\u001b[32mfilter()\u001b[39m   masks \u001b[34mstats\u001b[39m::filter()\n",
      "\u001b[31m✖\u001b[39m \u001b[34mrecipes\u001b[39m::\u001b[32mfixed()\u001b[39m  masks \u001b[34mstringr\u001b[39m::fixed()\n",
      "\u001b[31m✖\u001b[39m \u001b[34mdplyr\u001b[39m::\u001b[32mlag()\u001b[39m      masks \u001b[34mstats\u001b[39m::lag()\n",
      "\u001b[31m✖\u001b[39m \u001b[34myardstick\u001b[39m::\u001b[32mspec()\u001b[39m masks \u001b[34mreadr\u001b[39m::spec()\n",
      "\u001b[31m✖\u001b[39m \u001b[34mrecipes\u001b[39m::\u001b[32mstep()\u001b[39m   masks \u001b[34mstats\u001b[39m::step()\n",
      "\u001b[34m•\u001b[39m Use \u001b[32mtidymodels_prefer()\u001b[39m to resolve common conflicts.\n",
      "\n"
     ]
    }
   ],
   "source": [
    "# load libraries\n",
    "library(tidyverse)\n",
    "library(tidymodels)\n",
    "library(infer)"
   ]
  },
  {
   "cell_type": "markdown",
   "id": "68f664e5",
   "metadata": {},
   "source": [
    "### Reading Data from the database"
   ]
  },
  {
   "cell_type": "code",
   "execution_count": 22,
   "id": "d2d21b88",
   "metadata": {},
   "outputs": [
    {
     "name": "stderr",
     "output_type": "stream",
     "text": [
      "\u001b[1mRows: \u001b[22m\u001b[34m395\u001b[39m \u001b[1mColumns: \u001b[22m\u001b[34m33\u001b[39m\n",
      "\u001b[36m──\u001b[39m \u001b[1mColumn specification\u001b[22m \u001b[36m────────────────────────────────────────────────────────\u001b[39m\n",
      "\u001b[1mDelimiter:\u001b[22m \";\"\n",
      "\u001b[31mchr\u001b[39m (17): school, sex, address, famsize, Pstatus, Mjob, Fjob, reason, guardi...\n",
      "\u001b[32mdbl\u001b[39m (16): age, Medu, Fedu, traveltime, studytime, failures, famrel, freetime...\n",
      "\n",
      "\u001b[36mℹ\u001b[39m Use `spec()` to retrieve the full column specification for this data.\n",
      "\u001b[36mℹ\u001b[39m Specify the column types or set `show_col_types = FALSE` to quiet this message.\n"
     ]
    },
    {
     "data": {
      "text/html": [
       "<table class=\"dataframe\">\n",
       "<caption>A tibble: 6 × 5</caption>\n",
       "<thead>\n",
       "\t<tr><th scope=col>mother_education</th><th scope=col>father_education</th><th scope=col>first_period_grade</th><th scope=col>second_period_grade</th><th scope=col>final_grade</th></tr>\n",
       "\t<tr><th scope=col>&lt;fct&gt;</th><th scope=col>&lt;fct&gt;</th><th scope=col>&lt;dbl&gt;</th><th scope=col>&lt;dbl&gt;</th><th scope=col>&lt;dbl&gt;</th></tr>\n",
       "</thead>\n",
       "<tbody>\n",
       "\t<tr><td>4</td><td>4</td><td> 5</td><td> 6</td><td> 6</td></tr>\n",
       "\t<tr><td>1</td><td>1</td><td> 5</td><td> 5</td><td> 6</td></tr>\n",
       "\t<tr><td>1</td><td>1</td><td> 7</td><td> 8</td><td>10</td></tr>\n",
       "\t<tr><td>4</td><td>2</td><td>15</td><td>14</td><td>15</td></tr>\n",
       "\t<tr><td>3</td><td>3</td><td> 6</td><td>10</td><td>10</td></tr>\n",
       "\t<tr><td>4</td><td>3</td><td>15</td><td>15</td><td>15</td></tr>\n",
       "</tbody>\n",
       "</table>\n"
      ],
      "text/latex": [
       "A tibble: 6 × 5\n",
       "\\begin{tabular}{lllll}\n",
       " mother\\_education & father\\_education & first\\_period\\_grade & second\\_period\\_grade & final\\_grade\\\\\n",
       " <fct> & <fct> & <dbl> & <dbl> & <dbl>\\\\\n",
       "\\hline\n",
       "\t 4 & 4 &  5 &  6 &  6\\\\\n",
       "\t 1 & 1 &  5 &  5 &  6\\\\\n",
       "\t 1 & 1 &  7 &  8 & 10\\\\\n",
       "\t 4 & 2 & 15 & 14 & 15\\\\\n",
       "\t 3 & 3 &  6 & 10 & 10\\\\\n",
       "\t 4 & 3 & 15 & 15 & 15\\\\\n",
       "\\end{tabular}\n"
      ],
      "text/markdown": [
       "\n",
       "A tibble: 6 × 5\n",
       "\n",
       "| mother_education &lt;fct&gt; | father_education &lt;fct&gt; | first_period_grade &lt;dbl&gt; | second_period_grade &lt;dbl&gt; | final_grade &lt;dbl&gt; |\n",
       "|---|---|---|---|---|\n",
       "| 4 | 4 |  5 |  6 |  6 |\n",
       "| 1 | 1 |  5 |  5 |  6 |\n",
       "| 1 | 1 |  7 |  8 | 10 |\n",
       "| 4 | 2 | 15 | 14 | 15 |\n",
       "| 3 | 3 |  6 | 10 | 10 |\n",
       "| 4 | 3 | 15 | 15 | 15 |\n",
       "\n"
      ],
      "text/plain": [
       "  mother_education father_education first_period_grade second_period_grade\n",
       "1 4                4                 5                  6                 \n",
       "2 1                1                 5                  5                 \n",
       "3 1                1                 7                  8                 \n",
       "4 4                2                15                 14                 \n",
       "5 3                3                 6                 10                 \n",
       "6 4                3                15                 15                 \n",
       "  final_grade\n",
       "1  6         \n",
       "2  6         \n",
       "3 10         \n",
       "4 15         \n",
       "5 10         \n",
       "6 15         "
      ]
     },
     "metadata": {},
     "output_type": "display_data"
    }
   ],
   "source": [
    "# Reading data from UCI Machine Learning Repository and extract CSV file from zip file\n",
    "url <- \"https://archive.ics.uci.edu/static/public/320/student+performance.zip\"\n",
    "download.file(url, \"./data/studentperformance.zip\")\n",
    "raw_data <- unzip(\"./data/studentperformance.zip\", \"student.zip\", exdir = \"./data\") |>\n",
    "    unzip(\"student-mat.csv\", exdir = \"./data\") |>\n",
    "    read_delim(delim = \";\")\n",
    "\n",
    "\n",
    "student_data <- raw_data |>\n",
    "    mutate(final_grade = G3) |>\n",
    "    mutate(first_period_grade = G1) |>\n",
    "    mutate(second_period_grade = G2) |>\n",
    "    mutate(mother_education = as_factor (Medu)) |>\n",
    "    mutate(father_education = as_factor (Fedu)) |>\n",
    "    select(mother_education, father_education, first_period_grade, second_period_grade, final_grade)\n",
    "    \n",
    "head(student_data)"
   ]
  },
  {
   "cell_type": "markdown",
   "id": "18cf2bdc",
   "metadata": {},
   "source": [
    "**Reading Data:** Reading and processing the Student Performance dataset from the web"
   ]
  },
  {
   "cell_type": "markdown",
   "id": "73571604",
   "metadata": {},
   "source": [
    "# Methods: Plan"
   ]
  },
  {
   "cell_type": "markdown",
   "id": "97858075",
   "metadata": {},
   "source": [
    "```\n",
    "The previous sections will carry over to your final report (you’ll be allowed to improve them based on feedback you get). Begin this Methods section with a brief description of “the good things” about this report – specifically, in what ways is this report trustworthy?\n",
    "\n",
    "Continue by explaining why the plot(s) and estimates that you produced are not enough to give to a stakeholder, and what you should provide in addition to address this gap. Make sure your plans include at least one hypothesis test and one confidence interval. If possible, compare both the bootstrapping and asymptotics methods.\n",
    "\n",
    "Finish this section by reflecting on how your final report might play out:\n",
    "\n",
    "- What do you expect to find?\n",
    "- What impact could such findings have?\n",
    "- What future questions could this lead to?\n",
    "```\n",
    "\n",
    "# write more stuff here"
   ]
  },
  {
   "cell_type": "markdown",
   "id": "d8672271",
   "metadata": {},
   "source": [
    "# References"
   ]
  },
  {
   "cell_type": "markdown",
   "id": "df964698",
   "metadata": {},
   "source": [
    "https://archive.ics.uci.edu/dataset/320/student+performance <- cite this"
   ]
  },
  {
   "cell_type": "code",
   "execution_count": null,
   "id": "47e13c4a",
   "metadata": {},
   "outputs": [],
   "source": []
  }
 ],
 "metadata": {
  "kernelspec": {
   "display_name": "R",
   "language": "R",
   "name": "ir"
  },
  "language_info": {
   "codemirror_mode": "r",
   "file_extension": ".r",
   "mimetype": "text/x-r-source",
   "name": "R",
   "pygments_lexer": "r",
   "version": "4.1.3"
  }
 },
 "nbformat": 4,
 "nbformat_minor": 5
}
